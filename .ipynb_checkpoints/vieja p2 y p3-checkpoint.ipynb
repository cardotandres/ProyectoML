{
 "cells": [
  {
   "cell_type": "markdown",
   "id": "8ad23fa7",
   "metadata": {},
   "source": [
    "# Manipulación de Datos en Python\n",
    "## Proyecto final"
   ]
  },
  {
   "cell_type": "markdown",
   "id": "df658220",
   "metadata": {},
   "source": [
    "### Parte 2\n",
    "Realizar una ingesta de datos de un archivo formato .csv utilizando la librería de Pandas."
   ]
  },
  {
   "cell_type": "markdown",
   "id": "cc0fa519",
   "metadata": {},
   "source": [
    "El conjunto de datos utilizado fue __[Spotify Tracks Dataset](https://www.kaggle.com/datasets/maharshipandya/-spotify-tracks-dataset)__. En la web se describe cada parámetro relevado (columnas).\n",
    "\n",
    "<div class=\"alert alert-block alert-info\"> Revisado por última vez el 29/08/23 a las 19:00hs. </div>\n",
    "\n",
    "Mi objetivo de esta parte del trabajo es, además de la ingesta de datos, una limpieza de los mismos, y un posterior filtrado; pensando en la funcionalidad necesaria para realizar la [Parte 3](Parte-3)."
   ]
  },
  {
   "cell_type": "code",
   "execution_count": 151,
   "id": "691deb78",
   "metadata": {},
   "outputs": [],
   "source": [
    "# Importación de librerías y dataset\n",
    "\n",
    "import pandas as pd\n",
    "import numpy as np\n",
    "import matplotlib.pyplot as plt\n",
    "\n",
    "df = pd.read_csv(\"C:/Users/Burbu/Documents/AP/Proyecto_final/Parte_2/dataset.csv\", sep = \",\")"
   ]
  },
  {
   "cell_type": "code",
   "execution_count": 152,
   "id": "200e6a50",
   "metadata": {},
   "outputs": [
    {
     "data": {
      "text/plain": [
       "pandas.core.frame.DataFrame"
      ]
     },
     "execution_count": 152,
     "metadata": {},
     "output_type": "execute_result"
    }
   ],
   "source": [
    "# Control de la importación como estructura de datos (data frame)\n",
    "\n",
    "type(df)"
   ]
  },
  {
   "cell_type": "code",
   "execution_count": 153,
   "id": "0ec3aa50",
   "metadata": {},
   "outputs": [
    {
     "name": "stdout",
     "output_type": "stream",
     "text": [
      "<class 'pandas.core.frame.DataFrame'>\n",
      "RangeIndex: 114000 entries, 0 to 113999\n",
      "Data columns (total 21 columns):\n",
      " #   Column            Non-Null Count   Dtype  \n",
      "---  ------            --------------   -----  \n",
      " 0   Unnamed: 0        114000 non-null  int64  \n",
      " 1   track_id          114000 non-null  object \n",
      " 2   artists           113999 non-null  object \n",
      " 3   album_name        113999 non-null  object \n",
      " 4   track_name        113999 non-null  object \n",
      " 5   popularity        114000 non-null  int64  \n",
      " 6   duration_ms       114000 non-null  int64  \n",
      " 7   explicit          114000 non-null  bool   \n",
      " 8   danceability      114000 non-null  float64\n",
      " 9   energy            114000 non-null  float64\n",
      " 10  key               114000 non-null  int64  \n",
      " 11  loudness          114000 non-null  float64\n",
      " 12  mode              114000 non-null  int64  \n",
      " 13  speechiness       114000 non-null  float64\n",
      " 14  acousticness      114000 non-null  float64\n",
      " 15  instrumentalness  114000 non-null  float64\n",
      " 16  liveness          114000 non-null  float64\n",
      " 17  valence           114000 non-null  float64\n",
      " 18  tempo             114000 non-null  float64\n",
      " 19  time_signature    114000 non-null  int64  \n",
      " 20  track_genre       114000 non-null  object \n",
      "dtypes: bool(1), float64(9), int64(6), object(5)\n",
      "memory usage: 17.5+ MB\n"
     ]
    }
   ],
   "source": [
    "# Primer vistazo al formato de orden del conjunto de datos (dataset)\n",
    "\n",
    "df.info()"
   ]
  },
  {
   "cell_type": "code",
   "execution_count": 154,
   "id": "d0e24bbe",
   "metadata": {},
   "outputs": [
    {
     "data": {
      "text/plain": [
       "Unnamed: 0          114000\n",
       "track_id            114000\n",
       "artists             113999\n",
       "album_name          113999\n",
       "track_name          113999\n",
       "popularity          114000\n",
       "duration_ms         114000\n",
       "explicit            114000\n",
       "danceability        114000\n",
       "energy              114000\n",
       "key                 114000\n",
       "loudness            114000\n",
       "mode                114000\n",
       "speechiness         114000\n",
       "acousticness        114000\n",
       "instrumentalness    114000\n",
       "liveness            114000\n",
       "valence             114000\n",
       "tempo               114000\n",
       "time_signature      114000\n",
       "track_genre         114000\n",
       "dtype: int64"
      ]
     },
     "execution_count": 154,
     "metadata": {},
     "output_type": "execute_result"
    }
   ],
   "source": [
    "# Control de datos vacíos (missing values)\n",
    "\n",
    "df.count()"
   ]
  },
  {
   "cell_type": "code",
   "execution_count": 155,
   "id": "742ee5dd",
   "metadata": {},
   "outputs": [],
   "source": [
    "# Limpieza de datos vacíos (nueva estructura de datos creada)\n",
    "\n",
    "dfc = df.dropna()"
   ]
  },
  {
   "cell_type": "code",
   "execution_count": 156,
   "id": "d9e02b50",
   "metadata": {},
   "outputs": [
    {
     "data": {
      "text/plain": [
       "Unnamed: 0          0\n",
       "track_id            0\n",
       "artists             0\n",
       "album_name          0\n",
       "track_name          0\n",
       "popularity          0\n",
       "duration_ms         0\n",
       "explicit            0\n",
       "danceability        0\n",
       "energy              0\n",
       "key                 0\n",
       "loudness            0\n",
       "mode                0\n",
       "speechiness         0\n",
       "acousticness        0\n",
       "instrumentalness    0\n",
       "liveness            0\n",
       "valence             0\n",
       "tempo               0\n",
       "time_signature      0\n",
       "track_genre         0\n",
       "dtype: int64"
      ]
     },
     "execution_count": 156,
     "metadata": {},
     "output_type": "execute_result"
    }
   ],
   "source": [
    "# Control de la limpieza hecha\n",
    "\n",
    "dfc.isnull().sum()"
   ]
  },
  {
   "cell_type": "code",
   "execution_count": 157,
   "id": "b38b169b",
   "metadata": {},
   "outputs": [
    {
     "name": "stderr",
     "output_type": "stream",
     "text": [
      "C:\\Users\\Burbu\\AppData\\Local\\Temp\\ipykernel_7180\\3270749602.py:4: SettingWithCopyWarning: \n",
      "A value is trying to be set on a copy of a slice from a DataFrame\n",
      "\n",
      "See the caveats in the documentation: https://pandas.pydata.org/pandas-docs/stable/user_guide/indexing.html#returning-a-view-versus-a-copy\n",
      "  dfc.drop(to_drop, axis = \"columns\", inplace = True)\n"
     ]
    }
   ],
   "source": [
    "# Eliminación de columnas innecesarias para el análisis posterior \n",
    "\n",
    "to_drop = ['Unnamed: 0', 'track_id', 'duration_ms', 'explicit', 'key', 'loudness', 'mode', 'speechiness', 'acousticness', 'liveness']\n",
    "dfc.drop(to_drop, axis = \"columns\", inplace = True)"
   ]
  },
  {
   "cell_type": "code",
   "execution_count": 158,
   "id": "a6bd0dbf",
   "metadata": {},
   "outputs": [
    {
     "name": "stdout",
     "output_type": "stream",
     "text": [
      "<class 'pandas.core.frame.DataFrame'>\n",
      "Int64Index: 113999 entries, 0 to 113999\n",
      "Data columns (total 11 columns):\n",
      " #   Column            Non-Null Count   Dtype  \n",
      "---  ------            --------------   -----  \n",
      " 0   artists           113999 non-null  object \n",
      " 1   album_name        113999 non-null  object \n",
      " 2   track_name        113999 non-null  object \n",
      " 3   popularity        113999 non-null  int64  \n",
      " 4   danceability      113999 non-null  float64\n",
      " 5   energy            113999 non-null  float64\n",
      " 6   instrumentalness  113999 non-null  float64\n",
      " 7   valence           113999 non-null  float64\n",
      " 8   tempo             113999 non-null  float64\n",
      " 9   time_signature    113999 non-null  int64  \n",
      " 10  track_genre       113999 non-null  object \n",
      "dtypes: float64(5), int64(2), object(4)\n",
      "memory usage: 10.4+ MB\n"
     ]
    }
   ],
   "source": [
    "# Control de la nueva estructura de datos\n",
    "\n",
    "dfc.info()"
   ]
  },
  {
   "cell_type": "code",
   "execution_count": 159,
   "id": "36ee7107",
   "metadata": {},
   "outputs": [
    {
     "data": {
      "text/html": [
       "<div>\n",
       "<style scoped>\n",
       "    .dataframe tbody tr th:only-of-type {\n",
       "        vertical-align: middle;\n",
       "    }\n",
       "\n",
       "    .dataframe tbody tr th {\n",
       "        vertical-align: top;\n",
       "    }\n",
       "\n",
       "    .dataframe thead th {\n",
       "        text-align: right;\n",
       "    }\n",
       "</style>\n",
       "<table border=\"1\" class=\"dataframe\">\n",
       "  <thead>\n",
       "    <tr style=\"text-align: right;\">\n",
       "      <th></th>\n",
       "      <th>count</th>\n",
       "      <th>mean</th>\n",
       "      <th>std</th>\n",
       "      <th>min</th>\n",
       "      <th>25%</th>\n",
       "      <th>50%</th>\n",
       "      <th>75%</th>\n",
       "      <th>max</th>\n",
       "    </tr>\n",
       "  </thead>\n",
       "  <tbody>\n",
       "    <tr>\n",
       "      <th>popularity</th>\n",
       "      <td>113999.0</td>\n",
       "      <td>33.238827</td>\n",
       "      <td>22.304959</td>\n",
       "      <td>0.0</td>\n",
       "      <td>17.0000</td>\n",
       "      <td>35.000000</td>\n",
       "      <td>50.000</td>\n",
       "      <td>100.000</td>\n",
       "    </tr>\n",
       "    <tr>\n",
       "      <th>danceability</th>\n",
       "      <td>113999.0</td>\n",
       "      <td>0.566801</td>\n",
       "      <td>0.173543</td>\n",
       "      <td>0.0</td>\n",
       "      <td>0.4560</td>\n",
       "      <td>0.580000</td>\n",
       "      <td>0.695</td>\n",
       "      <td>0.985</td>\n",
       "    </tr>\n",
       "    <tr>\n",
       "      <th>energy</th>\n",
       "      <td>113999.0</td>\n",
       "      <td>0.641383</td>\n",
       "      <td>0.251530</td>\n",
       "      <td>0.0</td>\n",
       "      <td>0.4720</td>\n",
       "      <td>0.685000</td>\n",
       "      <td>0.854</td>\n",
       "      <td>1.000</td>\n",
       "    </tr>\n",
       "    <tr>\n",
       "      <th>instrumentalness</th>\n",
       "      <td>113999.0</td>\n",
       "      <td>0.156051</td>\n",
       "      <td>0.309556</td>\n",
       "      <td>0.0</td>\n",
       "      <td>0.0000</td>\n",
       "      <td>0.000042</td>\n",
       "      <td>0.049</td>\n",
       "      <td>1.000</td>\n",
       "    </tr>\n",
       "    <tr>\n",
       "      <th>valence</th>\n",
       "      <td>113999.0</td>\n",
       "      <td>0.474066</td>\n",
       "      <td>0.259261</td>\n",
       "      <td>0.0</td>\n",
       "      <td>0.2600</td>\n",
       "      <td>0.464000</td>\n",
       "      <td>0.683</td>\n",
       "      <td>0.995</td>\n",
       "    </tr>\n",
       "    <tr>\n",
       "      <th>tempo</th>\n",
       "      <td>113999.0</td>\n",
       "      <td>122.147695</td>\n",
       "      <td>29.978290</td>\n",
       "      <td>0.0</td>\n",
       "      <td>99.2185</td>\n",
       "      <td>122.017000</td>\n",
       "      <td>140.071</td>\n",
       "      <td>243.372</td>\n",
       "    </tr>\n",
       "    <tr>\n",
       "      <th>time_signature</th>\n",
       "      <td>113999.0</td>\n",
       "      <td>3.904034</td>\n",
       "      <td>0.432623</td>\n",
       "      <td>0.0</td>\n",
       "      <td>4.0000</td>\n",
       "      <td>4.000000</td>\n",
       "      <td>4.000</td>\n",
       "      <td>5.000</td>\n",
       "    </tr>\n",
       "  </tbody>\n",
       "</table>\n",
       "</div>"
      ],
      "text/plain": [
       "                     count        mean        std  min      25%         50%  \\\n",
       "popularity        113999.0   33.238827  22.304959  0.0  17.0000   35.000000   \n",
       "danceability      113999.0    0.566801   0.173543  0.0   0.4560    0.580000   \n",
       "energy            113999.0    0.641383   0.251530  0.0   0.4720    0.685000   \n",
       "instrumentalness  113999.0    0.156051   0.309556  0.0   0.0000    0.000042   \n",
       "valence           113999.0    0.474066   0.259261  0.0   0.2600    0.464000   \n",
       "tempo             113999.0  122.147695  29.978290  0.0  99.2185  122.017000   \n",
       "time_signature    113999.0    3.904034   0.432623  0.0   4.0000    4.000000   \n",
       "\n",
       "                      75%      max  \n",
       "popularity         50.000  100.000  \n",
       "danceability        0.695    0.985  \n",
       "energy              0.854    1.000  \n",
       "instrumentalness    0.049    1.000  \n",
       "valence             0.683    0.995  \n",
       "tempo             140.071  243.372  \n",
       "time_signature      4.000    5.000  "
      ]
     },
     "execution_count": 159,
     "metadata": {},
     "output_type": "execute_result"
    }
   ],
   "source": [
    "# Muestra condensada de los datos ya filtrados\n",
    "\n",
    "dfc.describe().T"
   ]
  },
  {
   "cell_type": "markdown",
   "id": "3fa53ce7",
   "metadata": {},
   "source": [
    "### Parte 3"
   ]
  },
  {
   "cell_type": "markdown",
   "id": "f58e8c33",
   "metadata": {},
   "source": [
    "Mencioná y explicá brevemente un caso de éxito de aplicación de *Machine Learning* en la empresa."
   ]
  },
  {
   "cell_type": "markdown",
   "id": "0ddac42f",
   "metadata": {},
   "source": [
    "Utilizando el conjunto de datos de la [Parte 2](#Parte-2), me propuse crear de un algoritmo que pudiera predecir la popularidad de un tema musical basado en su:\n",
    "1. capacidad de baile (danceability)\n",
    "2. energía (energy)\n",
    "3. grado de instrumentalidad (instrumentalness)\n",
    "4. positividad (valence)\n",
    "5. velocidad (tempo)\n",
    "6. métrica rítmica (time signature)\n",
    "\n",
    "Aquí se mostrará el código resultante y utilizado para la confección del análisis hecho el siguiente __[documento](http://url)__.\n",
    "\n",
    "<div class=\"alert alert-block alert-warning\"> Para obtener la selección del método utilizado y las conclusiones finales, múltiples pruebas han sido ejecutadas. Por cuestiones de legilibidad y optimización de este notebook, solo he incluido la prueba final, que es la más favorable y la utilizada en el análisis realizado en esta última parte del proyecto. </div>"
   ]
  },
  {
   "cell_type": "markdown",
   "id": "63f85d46",
   "metadata": {},
   "source": [
    "### testing"
   ]
  },
  {
   "cell_type": "code",
   "execution_count": 160,
   "id": "c8dff55e",
   "metadata": {},
   "outputs": [
    {
     "name": "stderr",
     "output_type": "stream",
     "text": [
      "C:\\Users\\Burbu\\AppData\\Local\\Temp\\ipykernel_7180\\2083769509.py:4: FutureWarning: The default value of numeric_only in DataFrame.corr is deprecated. In a future version, it will default to False. Select only valid columns or specify the value of numeric_only to silence this warning.\n",
      "  sns.heatmap(dfc.corr(), cbar = True, square = True, annot = True, fmt = '.2f', annot_kws = {'size': 10}, cmap = 'coolwarm')\n"
     ]
    },
    {
     "data": {
      "text/plain": [
       "<Axes: >"
      ]
     },
     "execution_count": 160,
     "metadata": {},
     "output_type": "execute_result"
    },
    {
     "data": {
      "image/png": "[encoded data removed]",
      "text/plain": [
       "<Figure size 640x480 with 2 Axes>"
      ]
     },
     "metadata": {},
     "output_type": "display_data"
    }
   ],
   "source": [
    "# Graficación de la correlación existente entre los datos\n",
    "\n",
    "import seaborn as sns\n",
    "sns.heatmap(dfc.corr(), cbar = True, square = True, annot = True, fmt = '.2f', annot_kws = {'size': 10}, cmap = 'coolwarm')"
   ]
  },
  {
   "cell_type": "code",
   "execution_count": 161,
   "id": "910fb5b7",
   "metadata": {},
   "outputs": [],
   "source": [
    "# Importación de las librerías y módulos necesarios\n",
    "\n",
    "from sklearn.metrics import mean_squared_error\n",
    "from sklearn.model_selection import train_test_split\n",
    "from sklearn.linear_model import LinearRegression\n"
   ]
  },
  {
   "cell_type": "code",
   "execution_count": 162,
   "id": "df3294ff",
   "metadata": {},
   "outputs": [
    {
     "data": {
      "text/html": [
       "<style>#sk-container-id-20 {color: black;}#sk-container-id-20 pre{padding: 0;}#sk-container-id-20 div.sk-toggleable {background-color: white;}#sk-container-id-20 label.sk-toggleable__label {cursor: pointer;display: block;width: 100%;margin-bottom: 0;padding: 0.3em;box-sizing: border-box;text-align: center;}#sk-container-id-20 label.sk-toggleable__label-arrow:before {content: \"▸\";float: left;margin-right: 0.25em;color: #696969;}#sk-container-id-20 label.sk-toggleable__label-arrow:hover:before {color: black;}#sk-container-id-20 div.sk-estimator:hover label.sk-toggleable__label-arrow:before {color: black;}#sk-container-id-20 div.sk-toggleable__content {max-height: 0;max-width: 0;overflow: hidden;text-align: left;background-color: #f0f8ff;}#sk-container-id-20 div.sk-toggleable__content pre {margin: 0.2em;color: black;border-radius: 0.25em;background-color: #f0f8ff;}#sk-container-id-20 input.sk-toggleable__control:checked~div.sk-toggleable__content {max-height: 200px;max-width: 100%;overflow: auto;}#sk-container-id-20 input.sk-toggleable__control:checked~label.sk-toggleable__label-arrow:before {content: \"▾\";}#sk-container-id-20 div.sk-estimator input.sk-toggleable__control:checked~label.sk-toggleable__label {background-color: #d4ebff;}#sk-container-id-20 div.sk-label input.sk-toggleable__control:checked~label.sk-toggleable__label {background-color: #d4ebff;}#sk-container-id-20 input.sk-hidden--visually {border: 0;clip: rect(1px 1px 1px 1px);clip: rect(1px, 1px, 1px, 1px);height: 1px;margin: -1px;overflow: hidden;padding: 0;position: absolute;width: 1px;}#sk-container-id-20 div.sk-estimator {font-family: monospace;background-color: #f0f8ff;border: 1px dotted black;border-radius: 0.25em;box-sizing: border-box;margin-bottom: 0.5em;}#sk-container-id-20 div.sk-estimator:hover {background-color: #d4ebff;}#sk-container-id-20 div.sk-parallel-item::after {content: \"\";width: 100%;border-bottom: 1px solid gray;flex-grow: 1;}#sk-container-id-20 div.sk-label:hover label.sk-toggleable__label {background-color: #d4ebff;}#sk-container-id-20 div.sk-serial::before {content: \"\";position: absolute;border-left: 1px solid gray;box-sizing: border-box;top: 0;bottom: 0;left: 50%;z-index: 0;}#sk-container-id-20 div.sk-serial {display: flex;flex-direction: column;align-items: center;background-color: white;padding-right: 0.2em;padding-left: 0.2em;position: relative;}#sk-container-id-20 div.sk-item {position: relative;z-index: 1;}#sk-container-id-20 div.sk-parallel {display: flex;align-items: stretch;justify-content: center;background-color: white;position: relative;}#sk-container-id-20 div.sk-item::before, #sk-container-id-20 div.sk-parallel-item::before {content: \"\";position: absolute;border-left: 1px solid gray;box-sizing: border-box;top: 0;bottom: 0;left: 50%;z-index: -1;}#sk-container-id-20 div.sk-parallel-item {display: flex;flex-direction: column;z-index: 1;position: relative;background-color: white;}#sk-container-id-20 div.sk-parallel-item:first-child::after {align-self: flex-end;width: 50%;}#sk-container-id-20 div.sk-parallel-item:last-child::after {align-self: flex-start;width: 50%;}#sk-container-id-20 div.sk-parallel-item:only-child::after {width: 0;}#sk-container-id-20 div.sk-dashed-wrapped {border: 1px dashed gray;margin: 0 0.4em 0.5em 0.4em;box-sizing: border-box;padding-bottom: 0.4em;background-color: white;}#sk-container-id-20 div.sk-label label {font-family: monospace;font-weight: bold;display: inline-block;line-height: 1.2em;}#sk-container-id-20 div.sk-label-container {text-align: center;}#sk-container-id-20 div.sk-container {/* jupyter's `normalize.less` sets `[hidden] { display: none; }` but bootstrap.min.css set `[hidden] { display: none !important; }` so we also need the `!important` here to be able to override the default hidden behavior on the sphinx rendered scikit-learn.org. See: https://github.com/scikit-learn/scikit-learn/issues/21755 */display: inline-block !important;position: relative;}#sk-container-id-20 div.sk-text-repr-fallback {display: none;}</style><div id=\"sk-container-id-20\" class=\"sk-top-container\"><div class=\"sk-text-repr-fallback\"><pre>LinearRegression()</pre><b>In a Jupyter environment, please rerun this cell to show the HTML representation or trust the notebook. <br />On GitHub, the HTML representation is unable to render, please try loading this page with nbviewer.org.</b></div><div class=\"sk-container\" hidden><div class=\"sk-item\"><div class=\"sk-estimator sk-toggleable\"><input class=\"sk-toggleable__control sk-hidden--visually\" id=\"sk-estimator-id-20\" type=\"checkbox\" checked><label for=\"sk-estimator-id-20\" class=\"sk-toggleable__label sk-toggleable__label-arrow\">LinearRegression</label><div class=\"sk-toggleable__content\"><pre>LinearRegression()</pre></div></div></div></div></div>"
      ],
      "text/plain": [
       "LinearRegression()"
      ]
     },
     "execution_count": 162,
     "metadata": {},
     "output_type": "execute_result"
    }
   ],
   "source": [
    "# Separación de datos para entrenamiento y evaluación\n",
    "\n",
    "x = dfc[[\"danceability\", \"energy\", \"instrumentalness\", \"valence\", \"tempo\", \"time_signature\"]]\n",
    "y = dfc.popularity\n",
    "x_train, x_test, y_train, y_test = train_test_split(x, y, test_size=0.30, random_state=14)\n",
    "\n",
    "# Entrenamiento del modelo\n",
    "\n",
    "linear_model = LinearRegression()\n",
    "linear_model.fit(x_train,y_train)"
   ]
  },
  {
   "cell_type": "code",
   "execution_count": 163,
   "id": "102768fc",
   "metadata": {},
   "outputs": [
    {
     "name": "stdout",
     "output_type": "stream",
     "text": [
      "Modelo benchmark: Regresión Lineal\n",
      "Raíz del error cuadrático medio en entrenamiento 22.105142140533314\n",
      "Raíz del error cuadrático medio en evaluación 22.060571870219984\n"
     ]
    }
   ],
   "source": [
    "# Predicciones y  resultados\n",
    "\n",
    "y_train_pred = linear_model.predict(x_train)\n",
    "y_test_pred = linear_model.predict(x_test)\n",
    "    \n",
    "rnse_train = np.sqrt(mean_squared_error(y_train, y_train_pred))\n",
    "rnse_test = np.sqrt(mean_squared_error(y_test, y_test_pred))\n",
    "\n",
    "print('Modelo benchmark: Regresión Lineal')\n",
    "print(f'Raíz del error cuadrático medio en entrenamiento {rnse_train}')\n",
    "print(f'Raíz del error cuadrático medio en evaluación {rnse_test}')"
   ]
  },
  {
   "cell_type": "code",
   "execution_count": null,
   "id": "5bd5e3fe",
   "metadata": {},
   "outputs": [],
   "source": []
  }
 ],
 "metadata": {
  "kernelspec": {
   "display_name": "Python 3 (ipykernel)",
   "language": "python",
   "name": "python3"
  },
  "language_info": {
   "codemirror_mode": {
    "name": "ipython",
    "version": 3
   },
   "file_extension": ".py",
   "mimetype": "text/x-python",
   "name": "python",
   "nbconvert_exporter": "python",
   "pygments_lexer": "ipython3",
   "version": "3.11.4"
  }
 },
 "nbformat": 4,
 "nbformat_minor": 5
}
